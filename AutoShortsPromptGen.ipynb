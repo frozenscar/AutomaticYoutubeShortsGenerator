{
  "nbformat": 4,
  "nbformat_minor": 0,
  "metadata": {
    "colab": {
      "provenance": [],
      "authorship_tag": "ABX9TyOUkzIFd+p5Nqw/eQZ3y7z/",
      "include_colab_link": true
    },
    "kernelspec": {
      "name": "python3",
      "display_name": "Python 3"
    },
    "language_info": {
      "name": "python"
    }
  },
  "cells": [
    {
      "cell_type": "markdown",
      "metadata": {
        "id": "view-in-github",
        "colab_type": "text"
      },
      "source": [
        "<a href=\"https://colab.research.google.com/github/frozenscar/AutomaticYoutubeShortsGenerator/blob/main/AutoShortsPromptGen.ipynb\" target=\"_parent\"><img src=\"https://colab.research.google.com/assets/colab-badge.svg\" alt=\"Open In Colab\"/></a>"
      ]
    },
    {
      "cell_type": "code",
      "execution_count": null,
      "metadata": {
        "colab": {
          "base_uri": "https://localhost:8080/"
        },
        "id": "8fiSJjChSqNg",
        "outputId": "0994d40a-88a8-4a20-b8d4-828ddc97d3c7"
      },
      "outputs": [
        {
          "output_type": "stream",
          "name": "stdout",
          "text": [
            "Mounted at /content/drive\n"
          ]
        }
      ],
      "source": [
        "from google.colab import drive\n",
        "drive.mount('/content/drive', force_remount=True)"
      ]
    },
    {
      "cell_type": "code",
      "source": [
        "import google.generativeai as genai\n",
        "from google.colab import userdata\n",
        "key = userdata.get('GOOGLE_API_KEY')\n",
        "genai.configure(api_key=key)"
      ],
      "metadata": {
        "id": "vUdJw2KTSvTT"
      },
      "execution_count": null,
      "outputs": []
    },
    {
      "cell_type": "code",
      "source": [
        "\n",
        "\n",
        "import configparser\n",
        "import os\n",
        "\n",
        "def create_config(base_path):\n",
        "    config = configparser.ConfigParser()\n",
        "    # Add sections and key-value pairs\n",
        "    config['General'] = {'curr_vid': 1}\n",
        "    # Write the configuration to a file\n",
        "    with open(base_path+'/prompt_config.ini', 'w') as configfile:\n",
        "        config.write(configfile)\n",
        "\n",
        "base_path = '/content/drive/MyDrive/AI'\n",
        "#create_config(base_path)\n",
        "\n",
        "def set_video(base_path,curr_vid):\n",
        "  config = configparser.ConfigParser()\n",
        "  config.read(base_path+'/prompt_config.ini')\n",
        "  config['General']['curr_vid'] = str(curr_vid)\n",
        "  with open(base_path+'/prompt_config.ini', 'w') as configfile:\n",
        "    config.write(configfile)\n",
        "\n",
        "def get_video(base_path):\n",
        "  config = configparser.ConfigParser()\n",
        "  config.read(base_path+'/prompt_config.ini')\n",
        "  curr_vid = config['General']['curr_vid']\n",
        "  return curr_vid\n",
        "\n",
        "curr_vid = get_video(base_path)\n",
        "\n",
        "curr_vid_path = os.path.join(base_path,curr_vid)\n",
        "if not os.path.exists(curr_vid_path):\n",
        "  os.mkdir(curr_vid_path)"
      ],
      "metadata": {
        "id": "A7h3gRGk0YPA"
      },
      "execution_count": null,
      "outputs": []
    },
    {
      "cell_type": "code",
      "source": [
        "set_video(base_path,str(int(curr_vid)+1))\n",
        "curr_vid = get_video(base_path)\n",
        "curr_vid_path = os.path.join(base_path,curr_vid)\n",
        "os.mkdir(curr_vid_path)"
      ],
      "metadata": {
        "id": "22bHlwD39fDg"
      },
      "execution_count": null,
      "outputs": []
    },
    {
      "cell_type": "code",
      "source": [
        "# prompt: use genai to create prompts for youtube shorts\n",
        "\n",
        "\n",
        "model = genai.GenerativeModel('gemini-1.5-flash',generation_config=genai.types.GenerationConfig(\n",
        "        # Only one candidate for now.\n",
        "        candidate_count=1,\n",
        "\n",
        "        max_output_tokens=200000,\n",
        "        temperature=0.7,\n",
        "        top_k=40,\n",
        "        top_p=0.95\n",
        "    ))\n",
        "\n",
        "\n",
        "\n",
        "context = f\"\"\"\n",
        "You are an expert at creating engaging and creative content for YouTube Shorts.\n",
        "Generate text content for YouTube Shorts on theroies about ghosts.\n",
        "The content should be 1 paragraph, concise and attention-grabbing, ideally under 10 sentences, give each sentence in new line.\n",
        "Focus on ideas that are easy to understand, encouraging quick creation.\n",
        "\"\"\"\n",
        "\n",
        "response = model.generate_content(context)\n",
        "prompt = response.text\n",
        "\n",
        "\n",
        "\n",
        "\n",
        "prompt.strip()\n",
        "prompt.strip('\"')\n",
        "prompt.strip(\"'\")\n",
        "\n",
        "prompts = prompt.split('\\n')\n",
        "prompts = [prompt for prompt in prompts if len(prompt)> 10 ]\n",
        "\n",
        "img_prompts = []\n",
        "for p in prompts:\n",
        "  response = model.generate_content(f\"for given script of youtube shorts video,'{prompt}' \\n  what should be the background image for line {p}, output a single sentence\")\n",
        "  img_prompts.append(response.text.strip('\\n'))\n",
        "def cleanUpList(prompts):\n",
        "  prompts = prompts[prompts.index(\"[\")+1:]\n",
        "  prompts = prompts[:prompts.index(\"]\")]\n",
        "  prompts = prompts.split(\",\")\n",
        "  for i in range(len(prompts)):\n",
        "    prompts[i] = prompts[i].strip()\n",
        "    prompts[i] = prompts[i].strip('\"')\n",
        "  prompts = [prompt for prompt in prompts if len(prompt)> 10 ]\n",
        "  return prompts\n",
        "\n",
        "\n",
        "#prompts = cleanUpList(prompts)\n",
        "\n",
        "#img_prompts = cleanUpList(img_prompts)\n",
        "\n",
        "with open(curr_vid_path+'/prompts.txt', 'w') as f:\n",
        "  for prompt in prompts:\n",
        "    f.write(prompt + '\\n')\n",
        "\n",
        "with open(f'{curr_vid_path}/img_prompts.txt', 'w') as f:\n",
        "  for prompt in img_prompts:\n",
        "    f.write(prompt + '\\n')\n",
        "\n",
        "print(prompts,\"\\n\",img_prompts)\n",
        "\n",
        "\n",
        "with open(f'{curr_vid_path}/state.txt', 'w') as f:\n",
        "  f.write(\"prompts generated\")\n",
        "\n",
        "\n",
        "\n"
      ],
      "metadata": {
        "colab": {
          "base_uri": "https://localhost:8080/",
          "height": 72
        },
        "id": "peVXoAsmSwQ6",
        "outputId": "0561c138-385e-461e-f339-0f6ae44bdc24"
      },
      "execution_count": null,
      "outputs": [
        {
          "output_type": "stream",
          "name": "stdout",
          "text": [
            "['Ever wondered if ghosts are real? ', \"Some say they're just energy, stuck in this world. \", \"Others think they're trapped memories, haunting the places they loved. \", 'But what if ghosts are actually time travelers, trying to warn us about the future? ', \"Or maybe they're aliens, observing us from the shadows. \", \"These theories might sound crazy, but they're definitely thought-provoking! \", 'What do you think? ', 'Let me know in the comments! ', \"Don't forget to like and subscribe for more spooky content. \", '#ghosts #paranormal #theories #youtubeshorts #spooky '] \n",
            " ['A dark and misty forest with an old, abandoned house looming in the background. ', 'The background image should be a swirling, ethereal cloud of energy, perhaps with a faint human silhouette within it. ', 'A blurry, vintage photograph of an abandoned house with overgrown ivy, a faint figure visible in a window. ', 'A blurry, swirling vortex of colors against a dark background would be a suitable image for this line. ', 'The background image should be a dark, shadowy silhouette of an alien spacecraft hovering over a cityscape. ', 'A swirling vortex of colors and abstract shapes, perhaps with a faint silhouette of a ghost or a shadowy figure, would be a visually striking background for this line. ', 'A dark, shadowy image with a faint, ethereal figure or an unsettling scene hinting at the paranormal. ', 'A dark, shadowy image with a question mark or a ghostly figure would be appropriate for the line \"Let me know in the comments!\". ', 'The background image should be a dark, shadowy scene with a subtle hint of something spooky, like a silhouette of a figure or a glowing orb. ', 'A dimly lit, abandoned house with fog swirling around it, creating an eerie and mysterious atmosphere. ']\n"
          ]
        }
      ]
    },
    {
      "cell_type": "code",
      "source": [],
      "metadata": {
        "id": "ONx2wE1A8SYK"
      },
      "execution_count": null,
      "outputs": []
    }
  ]
}